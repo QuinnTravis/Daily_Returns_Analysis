{
  "nbformat": 4,
  "nbformat_minor": 0,
  "metadata": {
    "colab": {
      "provenance": []
    },
    "kernelspec": {
      "name": "python3",
      "display_name": "Python 3"
    },
    "language_info": {
      "name": "python"
    }
  },
  "cells": [
    {
      "cell_type": "code",
      "execution_count": null,
      "metadata": {
        "id": "KxCzcPrwRgSU"
      },
      "outputs": [],
      "source": [
        "from google.colab import files\n",
        "uploaded = files.upload()\n",
        "print(uploaded)"
      ]
    },
    {
      "cell_type": "code",
      "source": [
        "import pandas as pd\n",
        "import numpy as np\n",
        "import matplotlib.pyplot as plt\n"
      ],
      "metadata": {
        "id": "wRet-VbKTN0U"
      },
      "execution_count": null,
      "outputs": []
    },
    {
      "cell_type": "code",
      "source": [
        "df = pd.read_csv('all_stocks_5yr.csv')\n",
        "print(df)"
      ],
      "metadata": {
        "id": "W2n8fiSdTs8K"
      },
      "execution_count": null,
      "outputs": []
    },
    {
      "cell_type": "code",
      "source": [
        "def daily_returns(prices):\n",
        "    returns = []\n",
        "    for i in range(len(prices) - 1):\n",
        "        d_return = (prices[i+1] - prices[i]) / prices[i]\n",
        "        returns.append(d_return)\n",
        "    return returns\n",
        "\n"
      ],
      "metadata": {
        "id": "QzJrDQKyTg89"
      },
      "execution_count": null,
      "outputs": []
    },
    {
      "cell_type": "code",
      "source": [
        "df[\"Daily_Returns\"] = df.groupby(\"Name\")[\"close\"].transform(lambda x: [None] + daily_returns(x.tolist()))\n",
        "\n",
        "\n"
      ],
      "metadata": {
        "id": "O02TwLumTmJd"
      },
      "execution_count": null,
      "outputs": []
    },
    {
      "cell_type": "code",
      "source": [
        "stock_name = \"AAPL\"  # replace with any stock name from your CSV\n",
        "returns_stock = df[df[\"Name\"] == stock_name][\"Daily_Returns\"].dropna() * 100  # convert to %\n",
        "\n"
      ],
      "metadata": {
        "id": "U15gfpaTUNpx"
      },
      "execution_count": null,
      "outputs": []
    },
    {
      "cell_type": "code",
      "source": [
        "mean_return = returns_stock.mean()\n",
        "volatility = returns_stock.std() * np.sqrt(252)  # annualized\n",
        "sharpe = (mean_return / returns_stock.std()) * np.sqrt(252)\n",
        "\n",
        "print(f\"{stock_name} - Annualized Volatility:\", volatility)\n",
        "print(f\"{stock_name} - Sharpe Ratio:\", sharpe)\n",
        "\n"
      ],
      "metadata": {
        "id": "dxRuaKiKUQzL"
      },
      "execution_count": null,
      "outputs": []
    },
    {
      "cell_type": "code",
      "source": [
        "plt.figure(figsize=(10,6))\n",
        "plt.hist(returns_stock, bins=50, color='blue', edgecolor='black')\n",
        "plt.title(f\"Distribution of Daily Returns: {stock_name}\")\n",
        "plt.xlabel(\"Daily Return (%)\")\n",
        "plt.ylabel(\"Frequency\")\n",
        "plt.show()\n"
      ],
      "metadata": {
        "id": "yc_ukAsfWkhs"
      },
      "execution_count": null,
      "outputs": []
    }
  ]
}